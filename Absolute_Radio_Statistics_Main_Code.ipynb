{
 "cells": [
  {
   "cell_type": "markdown",
   "metadata": {},
   "source": [
    "# A program to generate statistics on Absolute Radio\n",
    "\n",
    "The program monitors the weekday show (9am - 6pm) on absolute radio and will:\n",
    "\n",
    "1. 2. generate statistics on the number of songs played\n",
    "3. (in future) keep a tally of genres so that we can make some interesting plots in plotly\n",
    "\n",
    "There are a few things that must be implemented\n",
    "\n",
    "1. Getting data to plotly\n",
    "2. Running program only on specific days of the week\n",
    "3. Genres"
   ]
  },
  {
   "cell_type": "code",
   "execution_count": 1,
   "metadata": {},
   "outputs": [
    {
     "name": "stdout",
     "output_type": "stream",
     "text": [
      "Absolute Radio - Did they repeat?\n"
     ]
    }
   ],
   "source": [
    "'''\n",
    "Created on 15 Jan 2017\n",
    "\n",
    "@author: afunn\n",
    "'''\n",
    "print(\"Absolute Radio - Did they repeat?\")"
   ]
  },
  {
   "cell_type": "markdown",
   "metadata": {},
   "source": [
    "### Import the required libraries"
   ]
  },
  {
   "cell_type": "code",
   "execution_count": 2,
   "metadata": {},
   "outputs": [
    {
     "data": {
      "text/plain": [
       "'2.0.8'"
      ]
     },
     "execution_count": 2,
     "metadata": {},
     "output_type": "execute_result"
    }
   ],
   "source": [
    "from lxml import html  # for scraping web information\n",
    "import requests\n",
    "from threading import Timer  # for timing\n",
    "from collections import Counter  # for counting list\n",
    "import time\n",
    "import plotly\n",
    "from datetime import datetime\n",
    "import pandas as pd\n",
    "plotly.tools.set_credentials_file(username='benisme', api_key='clBZNegtB5pqHJZXRnnP')\n",
    "plotly.__version__"
   ]
  },
  {
   "cell_type": "markdown",
   "metadata": {},
   "source": [
    "### Definitions\n",
    "#### Create the global variables that are used throughout the program\n",
    "It is generally not best practice to do this, but because we are using the timer, it is quite a difficult problem to get around and this is an easy solution\n",
    "\n",
    "#### Other Definitions\n",
    "We use a number of lists to keep track of what's happening with the songs and counts"
   ]
  },
  {
   "cell_type": "code",
   "execution_count": 3,
   "metadata": {
    "collapsed": true
   },
   "outputs": [],
   "source": [
    "# Global variables (Very bad to do this :( but its easy)\n",
    "global CurrentRepeatList\n",
    "global CurrentRepeatListLength\n",
    "CurrentRepeatList = []\n",
    "CurrentRepeatListLength = 0"
   ]
  },
  {
   "cell_type": "markdown",
   "metadata": {},
   "source": [
    "### Here we write the code to strip the data from the absolute radio webpage\n",
    "\n",
    "This is needed at the start of the program so that the starting state of the program is defined.\n",
    "We place this into three arrays, *artists*, *songs* and *times*"
   ]
  },
  {
   "cell_type": "code",
   "execution_count": 4,
   "metadata": {
    "collapsed": true
   },
   "outputs": [],
   "source": [
    "# Get the data from absolute radio\n",
    "\n",
    "page = requests.get('https://absoluteradio.co.uk/absolute-radio/music/')\n",
    "tree = html.fromstring(page.content)\n",
    "\n",
    "# This will create a list of artists\n",
    "artists = tree.xpath('//p[@class=\"song-artist\"]/text()')\n",
    "# This will create a list of songs\n",
    "songs = tree.xpath('//p[@class=\"song-title\"]/a/text()')\n",
    "# This will create a list of the times of the songs\n",
    "times = tree.xpath('//div[@class=\"song-inner\"]/time/text()')"
   ]
  },
  {
   "cell_type": "markdown",
   "metadata": {},
   "source": [
    "We then print these to the console, just so that we know things are working"
   ]
  },
  {
   "cell_type": "code",
   "execution_count": 5,
   "metadata": {},
   "outputs": [
    {
     "name": "stdout",
     "output_type": "stream",
     "text": [
      "['Stevie Wonder', 'Talking Heads', 'Mumford and Sons', 'The Cure', 'Mark Ronson', 'The Knack', 'The Verve', 'Aerosmith/Run DMC', 'Maroon 5', 'Arctic Monkeys', 'R.E.M.', 'Adele', 'The Smiths', 'George Ezra']\n",
      "['Higher Ground', 'Road To Nowhere', 'I Will Wait', \"Friday I'm In Love\", 'Valerie', 'My Sharona', 'Lucky Man', 'Walk This Way', 'She Will Be Loved', 'Snap Out Of It', 'Near Wild Heaven', 'Skyfall', 'How Soon Is Now?', 'Budapest']\n",
      "['5.13pm', '5.11pm', '5.06pm', '5.03pm', '4.59pm', '4.55pm', '4.44pm', '4.34pm', '4.30pm', '4.27pm', '4.24pm', '4.11pm', '4.09pm', '4.05pm']\n"
     ]
    }
   ],
   "source": [
    "print(artists)\n",
    "print(songs)\n",
    "print(times)"
   ]
  },
  {
   "cell_type": "markdown",
   "metadata": {},
   "source": [
    "Here we will change the times in the *ArtistsSongsTimesCount* list to standard format"
   ]
  },
  {
   "cell_type": "code",
   "execution_count": 6,
   "metadata": {},
   "outputs": [
    {
     "name": "stdout",
     "output_type": "stream",
     "text": [
      "['5.13pm', '5.11pm', '5.06pm', '5.03pm', '4.59pm', '4.55pm', '4.44pm', '4.34pm', '4.30pm', '4.27pm', '4.24pm', '4.11pm', '4.09pm', '4.05pm']\n",
      "['2017-05-13 05:13 PM', '2017-05-13 05:11 PM', '2017-05-13 05:06 PM', '2017-05-13 05:03 PM', '2017-05-13 04:59 PM', '2017-05-13 04:55 PM', '2017-05-13 04:44 PM', '2017-05-13 04:34 PM', '2017-05-13 04:30 PM', '2017-05-13 04:27 PM', '2017-05-13 04:24 PM', '2017-05-13 04:11 PM', '2017-05-13 04:09 PM', '2017-05-13 04:05 PM']\n"
     ]
    }
   ],
   "source": [
    "x = 0\n",
    "print(times)\n",
    "\n",
    "for item in times:\n",
    "    time_string = item\n",
    "    #plus_string = '2009-11-29'\n",
    "    plus_string = datetime.today().strftime(\"%Y-%m-%d\")\n",
    "    newformat = '%Y-%m-%d %I.%M%p'\n",
    "    format1 = '%Y-%m-%d %I:%M %p'\n",
    "    total_string = plus_string + \" \" + time_string\n",
    "    my_date = datetime.strptime(total_string, newformat)\n",
    "    times[x] = my_date.strftime(format1)\n",
    "    x = x+1\n",
    "    \n",
    "print(times)"
   ]
  },
  {
   "cell_type": "markdown",
   "metadata": {},
   "source": [
    "And we define two variable lists based on the length of the number of songs that was returned.\n",
    "Note: i'm not sure what emailnotification does any more"
   ]
  },
  {
   "cell_type": "code",
   "execution_count": 7,
   "metadata": {},
   "outputs": [
    {
     "name": "stdout",
     "output_type": "stream",
     "text": [
      "[1, 2, 3, 4, 5, 6, 7, 8, 9, 10, 11, 12, 13, 14]\n"
     ]
    }
   ],
   "source": [
    "# Main list definitions\n",
    "ArtistsSongsTimesCount = [artists, songs, times, [0] * len(artists)]\n",
    "\n",
    "EmailNotification = [0] * len(artists) # note this can be deleted\n",
    "\n",
    "for x in range(0,(len(ArtistsSongsTimesCount[3]))):\n",
    "    ArtistsSongsTimesCount[3][x] = x + 1\n",
    "    \n",
    "print(ArtistsSongsTimesCount[3])"
   ]
  },
  {
   "cell_type": "markdown",
   "metadata": {},
   "source": [
    "Here we write to a file at the start of the program all of the songs which have been played so far. This will become our master file which we will use to generated statistics."
   ]
  },
  {
   "cell_type": "code",
   "execution_count": 8,
   "metadata": {
    "collapsed": true
   },
   "outputs": [],
   "source": [
    "OutputFinal = []\n",
    "\n",
    "f = open('Today_Songlist', 'a')\n",
    "\n",
    "f.write('Artists;Songs;Times;Genres\\n')\n",
    "\n",
    "for i in range(0, (len(ArtistsSongsTimesCount[0]) - 1)):\n",
    "    ReadyForOutput = \"\"\n",
    "    for list in ArtistsSongsTimesCount:\n",
    "        ReadyForOutput = ReadyForOutput + str(list[i]) + ';'\n",
    "    ReadyForOutput = ReadyForOutput + '\\n'\n",
    "    OutputFinal.append(ReadyForOutput)\n",
    "\n",
    "for item in OutputFinal:\n",
    "    f.write(item)\n",
    "    \n",
    "f.close()"
   ]
  },
  {
   "cell_type": "markdown",
   "metadata": {},
   "source": [
    "Testing that the file reads"
   ]
  },
  {
   "cell_type": "code",
   "execution_count": 9,
   "metadata": {},
   "outputs": [
    {
     "name": "stdout",
     "output_type": "stream",
     "text": [
      "Artists;Songs;Times;Genres\n",
      "Stevie Wonder;Higher Ground;2017-05-13 05:13 PM;1;\n",
      "Talking Heads;Road To Nowhere;2017-05-13 05:11 PM;2;\n",
      "Mumford and Sons;I Will Wait;2017-05-13 05:06 PM;3;\n",
      "The Cure;Friday I'm In Love;2017-05-13 05:03 PM;4;\n",
      "Mark Ronson;Valerie;2017-05-13 04:59 PM;5;\n",
      "The Knack;My Sharona;2017-05-13 04:55 PM;6;\n",
      "The Verve;Lucky Man;2017-05-13 04:44 PM;7;\n",
      "Aerosmith/Run DMC;Walk This Way;2017-05-13 04:34 PM;8;\n",
      "Maroon 5;She Will Be Loved;2017-05-13 04:30 PM;9;\n",
      "Arctic Monkeys;Snap Out Of It;2017-05-13 04:27 PM;10;\n",
      "R.E.M.;Near Wild Heaven;2017-05-13 04:24 PM;11;\n",
      "Adele;Skyfall;2017-05-13 04:11 PM;12;\n",
      "The Smiths;How Soon Is Now?;2017-05-13 04:09 PM;13;\n",
      "\n"
     ]
    }
   ],
   "source": [
    "f = open('Today_Songlist', 'r')\n",
    "hello = f.read()\n",
    "f.close()\n",
    "\n",
    "print(hello)\n"
   ]
  },
  {
   "cell_type": "markdown",
   "metadata": {},
   "source": [
    "And then we print some stuff into the console to check things are working"
   ]
  },
  {
   "cell_type": "code",
   "execution_count": 10,
   "metadata": {
    "scrolled": true
   },
   "outputs": [
    {
     "name": "stdout",
     "output_type": "stream",
     "text": [
      "14\n",
      "[['Stevie Wonder', 'Talking Heads', 'Mumford and Sons', 'The Cure', 'Mark Ronson', 'The Knack', 'The Verve', 'Aerosmith/Run DMC', 'Maroon 5', 'Arctic Monkeys', 'R.E.M.', 'Adele', 'The Smiths', 'George Ezra'], ['Higher Ground', 'Road To Nowhere', 'I Will Wait', \"Friday I'm In Love\", 'Valerie', 'My Sharona', 'Lucky Man', 'Walk This Way', 'She Will Be Loved', 'Snap Out Of It', 'Near Wild Heaven', 'Skyfall', 'How Soon Is Now?', 'Budapest'], ['2017-05-13 05:13 PM', '2017-05-13 05:11 PM', '2017-05-13 05:06 PM', '2017-05-13 05:03 PM', '2017-05-13 04:59 PM', '2017-05-13 04:55 PM', '2017-05-13 04:44 PM', '2017-05-13 04:34 PM', '2017-05-13 04:30 PM', '2017-05-13 04:27 PM', '2017-05-13 04:24 PM', '2017-05-13 04:11 PM', '2017-05-13 04:09 PM', '2017-05-13 04:05 PM'], [1, 2, 3, 4, 5, 6, 7, 8, 9, 10, 11, 12, 13, 14]]\n"
     ]
    }
   ],
   "source": [
    "print(len(artists))\n",
    "print(ArtistsSongsTimesCount)"
   ]
  },
  {
   "cell_type": "markdown",
   "metadata": {},
   "source": [
    "## Plotly"
   ]
  },
  {
   "cell_type": "code",
   "execution_count": 11,
   "metadata": {
    "scrolled": false
   },
   "outputs": [
    {
     "data": {
      "text/html": [
       "\n",
       "<!DOCTYPE HTML>\n",
       "<html>\n",
       "  <head>\n",
       "    <style>\n",
       "      body {\n",
       "        margin: 0px;\n",
       "        padding: 0px;\n",
       "      }\n",
       "    </style>\n",
       "  </head>\n",
       "  <body>\n",
       "    <canvas id=\"myCanvas\" width=\"400\" height=\"400\"></canvas>\n",
       "    <script>\n",
       "      var canvas = document.getElementById('myCanvas');\n",
       "      var context = canvas.getContext('2d');\n",
       "      <!-- Dashboard -->\n",
       "      context.beginPath();\n",
       "      context.rect(0, 0, 400, 400);\n",
       "      context.lineWidth = 2;\n",
       "      context.strokeStyle = 'black';\n",
       "      context.stroke();\n",
       "      </script>\n",
       "  </body>\n",
       "</html>\n"
      ],
      "text/plain": [
       "<IPython.core.display.HTML object>"
      ]
     },
     "execution_count": 11,
     "metadata": {},
     "output_type": "execute_result"
    }
   ],
   "source": [
    "import plotly.dashboard_objs as dashboard\n",
    "\n",
    "import IPython.display\n",
    "from IPython.display import Image\n",
    "\n",
    "my_dboard = dashboard.Dashboard()\n",
    "my_dboard.get_preview()\n"
   ]
  },
  {
   "cell_type": "code",
   "execution_count": null,
   "metadata": {
    "collapsed": true
   },
   "outputs": [],
   "source": []
  },
  {
   "cell_type": "code",
   "execution_count": 12,
   "metadata": {},
   "outputs": [
    {
     "name": "stdout",
     "output_type": "stream",
     "text": [
      "              Artists               Songs             DateTime  Genres\n",
      "0             Artists               Songs                Times  Genres\n",
      "1       Stevie Wonder       Higher Ground  2017-05-13 05:13 PM       1\n",
      "2       Talking Heads     Road To Nowhere  2017-05-13 05:11 PM       2\n",
      "3    Mumford and Sons         I Will Wait  2017-05-13 05:06 PM       3\n",
      "4            The Cure  Friday I'm In Love  2017-05-13 05:03 PM       4\n",
      "5         Mark Ronson             Valerie  2017-05-13 04:59 PM       5\n",
      "6           The Knack          My Sharona  2017-05-13 04:55 PM       6\n",
      "7           The Verve           Lucky Man  2017-05-13 04:44 PM       7\n",
      "8   Aerosmith/Run DMC       Walk This Way  2017-05-13 04:34 PM       8\n",
      "9            Maroon 5   She Will Be Loved  2017-05-13 04:30 PM       9\n",
      "10     Arctic Monkeys      Snap Out Of It  2017-05-13 04:27 PM      10\n",
      "11             R.E.M.    Near Wild Heaven  2017-05-13 04:24 PM      11\n",
      "12              Adele             Skyfall  2017-05-13 04:11 PM      12\n",
      "13         The Smiths    How Soon Is Now?  2017-05-13 04:09 PM      13\n",
      "High five! You successfuly sent some data to your account on plotly. View your plot in your browser at https://plot.ly/~benisme/0 or inside your plot.ly account where it is named 'Manually Set Range'\n"
     ]
    },
    {
     "data": {
      "text/html": [
       "<iframe id=\"igraph\" scrolling=\"no\" style=\"border:none;\" seamless=\"seamless\" src=\"https://plot.ly/~benisme/0.embed\" height=\"525px\" width=\"100%\"></iframe>"
      ],
      "text/plain": [
       "<plotly.tools.PlotlyDisplay object>"
      ]
     },
     "execution_count": 12,
     "metadata": {},
     "output_type": "execute_result"
    }
   ],
   "source": [
    "import plotly.plotly as py\n",
    "import plotly.graph_objs as go\n",
    "\n",
    "import pandas as pd\n",
    "\n",
    "headers = ['Artists', 'Songs', 'DateTime', 'Genres']\n",
    "dtypes = {'Artists': 'str', 'Songs': 'str', 'DateTime': 'str', 'Genres': 'str'}\n",
    "parse_dates = ['DateTime']\n",
    "\n",
    "df = pd.read_csv('Today_Songlist', sep=';', header=None, names=headers, dtype=dtypes, parse_dates=parse_dates)\n",
    "\n",
    "#df = pd.read_csv('Today_Songlist', sep=';')\n",
    "\n",
    "print(df)\n",
    "\n",
    "\n",
    "trace_high = go.Scatter(\n",
    "                x=df.DateTime,\n",
    "                y=df['Genres'],\n",
    "                mode='markers',\n",
    "                text=df['Songs'],\n",
    "                name = \"Genres\",\n",
    "                line = dict(color = '#17BECF'),\n",
    "                opacity = 0.8)\n",
    "\n",
    "data = [trace_high]\n",
    "\n",
    "layout = dict(\n",
    "    title = \"First trial at Plotly\",\n",
    "    xaxis = dict(\n",
    "        range = ['2017-05-12','2017-05-15'])\n",
    ")\n",
    "\n",
    "fig = dict(data=data, layout=layout)\n",
    "py.iplot(fig, filename = \"Manually Set Range\")\n",
    "\n"
   ]
  },
  {
   "cell_type": "markdown",
   "metadata": {},
   "source": [
    "### The master function\n",
    "\n",
    "Here we define the master function which will be called by the timer, this will\n",
    "1. Call the *Retrieve_TimesArtistsSongs()* function \n",
    "2. If the *Retrieve_TimesArtistsSongs()* returns true, indicating a new song has been played, the master function will\n",
    "  * Check whether it is a repeat: It does this by running *UpdateCount()*\n",
    "  * *Update Count* Returns the current list of repeated songs, and the number of songs played\n",
    "  * If the length of the current list of repeated songs has changed from the last loop, then actions are generated\n",
    "  \n",
    "3. Return values back to the timer"
   ]
  },
  {
   "cell_type": "code",
   "execution_count": 13,
   "metadata": {
    "collapsed": true
   },
   "outputs": [],
   "source": [
    "# start of master function definition\n",
    "def update_song_list_count_and_email():\n",
    "    global CurrentRepeatList\n",
    "    global CurrentRepeatListLength\n",
    "\n",
    "    NewSongBoolean = False\n",
    "    RepeatBoolean = False\n",
    "    TotalSongs = 0\n",
    "\n",
    "    NewSongBoolean = Retrieve_TimesArtistsSongs()\n",
    "    print(\"\")\n",
    "    print(\"NewSongBoolean = \", NewSongBoolean)\n",
    "    # change this to a case statement later on\n",
    "    if NewSongBoolean == True:\n",
    "        print(\"Updating List\")\n",
    "\n",
    "    else:\n",
    "        # UpdateCount2()\n",
    "        print(\"Not updating this time around\")\n",
    "\n",
    "    print(\"CurrentRepeatList = \", CurrentRepeatList)\n",
    "    print(\"len(CurrentRepeatList) = \", len(CurrentRepeatList))\n",
    "\n",
    "    CurrentRepeatListLength = len(CurrentRepeatList)\n",
    "\n",
    "    # If the update count returns a bigger value then do something\n",
    "\n",
    "    print(\"\")\n",
    "    print(\"ArtistsSongsTimesCount = \", ArtistsSongsTimesCount)\n",
    "    print(\"\")\n",
    "   \n",
    "    # Function check to see if count is > EmailNotificaiton list\n",
    "\n",
    "    return CurrentRepeatListLength, TotalSongs"
   ]
  },
  {
   "cell_type": "markdown",
   "metadata": {},
   "source": [
    "## The *Retrieve_TimesArtistsSongs* function\n",
    "\n",
    "What this function is doing is:\n",
    "1. Getting the current list of Artists, songs, times from the absolute radio website\n",
    "2. Comparing the songs list to the existing songs list, and if there is a difference\n",
    "  1. It inserts the new song into the existing array\n",
    "  2. It returns the value 'true'"
   ]
  },
  {
   "cell_type": "code",
   "execution_count": 14,
   "metadata": {
    "collapsed": true
   },
   "outputs": [],
   "source": [
    "def Retrieve_TimesArtistsSongs():\n",
    "    page = requests.get('https://absoluteradio.co.uk/absolute-radio/music/')\n",
    "    tree = html.fromstring(page.content)\n",
    "    # This will create a list of artists\n",
    "    artists_B = tree.xpath('//p[@class=\"song-artist\"]/text()')\n",
    "    # This will create a list of songs\n",
    "    songs_B = tree.xpath('//p[@class=\"song-title\"]/a/text()')\n",
    "    # This will create a list of the times of the songs\n",
    "    times_B = tree.xpath('//div[@class=\"song-inner\"]/time/text()')\n",
    "\n",
    "    if songs_B[0] != ArtistsSongsTimesCount[1][0]: # i.e. compare the newly created songs array to the existing songs array\n",
    "        ArtistsSongsTimesCount[0].insert(0, artists_B[0])\n",
    "        ArtistsSongsTimesCount[1].insert(0, songs_B[0])\n",
    "        ArtistsSongsTimesCount[2].insert(0, times_B[0])\n",
    "        ArtistsSongsTimesCount[3].insert(0, 0)\n",
    "        return True\n",
    "\n",
    "    else:\n",
    "        return False"
   ]
  },
  {
   "cell_type": "markdown",
   "metadata": {},
   "source": [
    "Not sure what this any more - does this code need to be deleted? "
   ]
  },
  {
   "cell_type": "code",
   "execution_count": null,
   "metadata": {
    "collapsed": true
   },
   "outputs": [],
   "source": [
    "def UpdateCount2():\n",
    "    for x in range(len(ArtistsSongsTimesCount[0])):\n",
    "        print(x)\n",
    "    # if c == 3:\n",
    "    #    continue\n",
    "    #print (c)"
   ]
  },
  {
   "cell_type": "markdown",
   "metadata": {},
   "source": [
    "## Timer Function"
   ]
  },
  {
   "cell_type": "code",
   "execution_count": null,
   "metadata": {},
   "outputs": [
    {
     "name": "stdout",
     "output_type": "stream",
     "text": [
      "\n",
      "NewSongBoolean =  False\n",
      "Not updating this time around\n",
      "CurrentRepeatList =  []\n",
      "len(CurrentRepeatList) =  0\n",
      "\n",
      "ArtistsSongsTimesCount =  [['Stevie Wonder', 'Talking Heads', 'Mumford and Sons', 'The Cure', 'Mark Ronson', 'The Knack', 'The Verve', 'Aerosmith/Run DMC', 'Maroon 5', 'Arctic Monkeys', 'R.E.M.', 'Adele', 'The Smiths', 'George Ezra'], ['Higher Ground', 'Road To Nowhere', 'I Will Wait', \"Friday I'm In Love\", 'Valerie', 'My Sharona', 'Lucky Man', 'Walk This Way', 'She Will Be Loved', 'Snap Out Of It', 'Near Wild Heaven', 'Skyfall', 'How Soon Is Now?', 'Budapest'], ['2017-05-13 05:13 PM', '2017-05-13 05:11 PM', '2017-05-13 05:06 PM', '2017-05-13 05:03 PM', '2017-05-13 04:59 PM', '2017-05-13 04:55 PM', '2017-05-13 04:44 PM', '2017-05-13 04:34 PM', '2017-05-13 04:30 PM', '2017-05-13 04:27 PM', '2017-05-13 04:24 PM', '2017-05-13 04:11 PM', '2017-05-13 04:09 PM', '2017-05-13 04:05 PM'], [1, 2, 3, 4, 5, 6, 7, 8, 9, 10, 11, 12, 13, 14]]\n",
      "\n",
      "\n",
      "NewSongBoolean =  False\n",
      "Not updating this time around\n",
      "CurrentRepeatList =  []\n",
      "len(CurrentRepeatList) =  0\n",
      "\n",
      "ArtistsSongsTimesCount =  [['Stevie Wonder', 'Talking Heads', 'Mumford and Sons', 'The Cure', 'Mark Ronson', 'The Knack', 'The Verve', 'Aerosmith/Run DMC', 'Maroon 5', 'Arctic Monkeys', 'R.E.M.', 'Adele', 'The Smiths', 'George Ezra'], ['Higher Ground', 'Road To Nowhere', 'I Will Wait', \"Friday I'm In Love\", 'Valerie', 'My Sharona', 'Lucky Man', 'Walk This Way', 'She Will Be Loved', 'Snap Out Of It', 'Near Wild Heaven', 'Skyfall', 'How Soon Is Now?', 'Budapest'], ['2017-05-13 05:13 PM', '2017-05-13 05:11 PM', '2017-05-13 05:06 PM', '2017-05-13 05:03 PM', '2017-05-13 04:59 PM', '2017-05-13 04:55 PM', '2017-05-13 04:44 PM', '2017-05-13 04:34 PM', '2017-05-13 04:30 PM', '2017-05-13 04:27 PM', '2017-05-13 04:24 PM', '2017-05-13 04:11 PM', '2017-05-13 04:09 PM', '2017-05-13 04:05 PM'], [1, 2, 3, 4, 5, 6, 7, 8, 9, 10, 11, 12, 13, 14]]\n",
      "\n",
      "\n",
      "NewSongBoolean =  False\n",
      "Not updating this time around\n",
      "CurrentRepeatList =  []\n",
      "len(CurrentRepeatList) =  0\n",
      "\n",
      "ArtistsSongsTimesCount =  [['Stevie Wonder', 'Talking Heads', 'Mumford and Sons', 'The Cure', 'Mark Ronson', 'The Knack', 'The Verve', 'Aerosmith/Run DMC', 'Maroon 5', 'Arctic Monkeys', 'R.E.M.', 'Adele', 'The Smiths', 'George Ezra'], ['Higher Ground', 'Road To Nowhere', 'I Will Wait', \"Friday I'm In Love\", 'Valerie', 'My Sharona', 'Lucky Man', 'Walk This Way', 'She Will Be Loved', 'Snap Out Of It', 'Near Wild Heaven', 'Skyfall', 'How Soon Is Now?', 'Budapest'], ['2017-05-13 05:13 PM', '2017-05-13 05:11 PM', '2017-05-13 05:06 PM', '2017-05-13 05:03 PM', '2017-05-13 04:59 PM', '2017-05-13 04:55 PM', '2017-05-13 04:44 PM', '2017-05-13 04:34 PM', '2017-05-13 04:30 PM', '2017-05-13 04:27 PM', '2017-05-13 04:24 PM', '2017-05-13 04:11 PM', '2017-05-13 04:09 PM', '2017-05-13 04:05 PM'], [1, 2, 3, 4, 5, 6, 7, 8, 9, 10, 11, 12, 13, 14]]\n",
      "\n",
      "\n",
      "NewSongBoolean =  False\n",
      "Not updating this time around\n",
      "CurrentRepeatList =  []\n",
      "len(CurrentRepeatList) =  0\n",
      "\n",
      "ArtistsSongsTimesCount =  [['Stevie Wonder', 'Talking Heads', 'Mumford and Sons', 'The Cure', 'Mark Ronson', 'The Knack', 'The Verve', 'Aerosmith/Run DMC', 'Maroon 5', 'Arctic Monkeys', 'R.E.M.', 'Adele', 'The Smiths', 'George Ezra'], ['Higher Ground', 'Road To Nowhere', 'I Will Wait', \"Friday I'm In Love\", 'Valerie', 'My Sharona', 'Lucky Man', 'Walk This Way', 'She Will Be Loved', 'Snap Out Of It', 'Near Wild Heaven', 'Skyfall', 'How Soon Is Now?', 'Budapest'], ['2017-05-13 05:13 PM', '2017-05-13 05:11 PM', '2017-05-13 05:06 PM', '2017-05-13 05:03 PM', '2017-05-13 04:59 PM', '2017-05-13 04:55 PM', '2017-05-13 04:44 PM', '2017-05-13 04:34 PM', '2017-05-13 04:30 PM', '2017-05-13 04:27 PM', '2017-05-13 04:24 PM', '2017-05-13 04:11 PM', '2017-05-13 04:09 PM', '2017-05-13 04:05 PM'], [1, 2, 3, 4, 5, 6, 7, 8, 9, 10, 11, 12, 13, 14]]\n",
      "\n"
     ]
    }
   ],
   "source": [
    "# Creates a timer function running for 30s, and running function get songs\n",
    "\n",
    "starttime = time.time()\n",
    "while True:\n",
    "    CurrentRepeatList2, TotalSongs2 = update_song_list_count_and_email()\n",
    "    # Code needed here to\n",
    "    # pass back whether there has been a repeat and the total number of songs.\n",
    "    # also check if need to re-tweet at someone\n",
    "    time.sleep(30.0 - ((time.time() - starttime) % 30.0))"
   ]
  },
  {
   "cell_type": "markdown",
   "metadata": {},
   "source": [
    "Ideas for next steps"
   ]
  },
  {
   "cell_type": "code",
   "execution_count": null,
   "metadata": {
    "collapsed": true
   },
   "outputs": [],
   "source": [
    "\"\"\"    \n",
    "At end of day (1) tweet about the number of songs and repeats and (2) write day's output to file'\n",
    "\n",
    "I can have 2 seperate functions (1) that tweets to twitter (2) one that checks twitter\n",
    "\n",
    "\n",
    "\n",
    "Settings file: \n",
    "\n",
    "days of the week to run\n",
    "\n",
    "start time\n",
    "\n",
    "stop time\n",
    "\n",
    "\n",
    "Generated file:\n",
    "\n",
    "How many full days monitored\n",
    "\n",
    "How many repeats\n",
    "\"\"\""
   ]
  }
 ],
 "metadata": {
  "kernelspec": {
   "display_name": "Python 3",
   "language": "python",
   "name": "python3"
  },
  "language_info": {
   "codemirror_mode": {
    "name": "ipython",
    "version": 3
   },
   "file_extension": ".py",
   "mimetype": "text/x-python",
   "name": "python",
   "nbconvert_exporter": "python",
   "pygments_lexer": "ipython3",
   "version": "3.6.0"
  }
 },
 "nbformat": 4,
 "nbformat_minor": 2
}
