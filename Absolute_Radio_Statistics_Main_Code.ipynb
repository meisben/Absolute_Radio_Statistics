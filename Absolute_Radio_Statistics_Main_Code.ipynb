{
 "cells": [
  {
   "cell_type": "markdown",
   "metadata": {},
   "source": [
    "# A program to generate statistics on Absolute Radio\n",
    "\n",
    "The program monitors the weekday show (9am - 6pm) on absolute radio and will:\n",
    "\n",
    "1. 2. generate statistics on the number of songs played\n",
    "3. (in future) keep a tally of genres so that we can make some interesting plots in plotly\n",
    "\n",
    "There are a few things that must be implemented\n",
    "\n",
    "1. Getting data to plotly\n",
    "2. Running program only on specific days of the week\n",
    "3. Genres"
   ]
  },
  {
   "cell_type": "code",
   "execution_count": 67,
   "metadata": {},
   "outputs": [
    {
     "name": "stdout",
     "output_type": "stream",
     "text": [
      "Absolute Radio - Did they repeat?\n"
     ]
    }
   ],
   "source": [
    "'''\n",
    "Created on 15 Jan 2017\n",
    "\n",
    "@author: afunn\n",
    "'''\n",
    "print(\"Absolute Radio - Did they repeat?\")"
   ]
  },
  {
   "cell_type": "markdown",
   "metadata": {},
   "source": [
    "### Import the required libraries"
   ]
  },
  {
   "cell_type": "code",
   "execution_count": 68,
   "metadata": {},
   "outputs": [
    {
     "data": {
      "text/plain": [
       "'2.0.8'"
      ]
     },
     "execution_count": 68,
     "metadata": {},
     "output_type": "execute_result"
    }
   ],
   "source": [
    "from lxml import html  # for scraping web information\n",
    "import requests\n",
    "from threading import Timer  # for timing\n",
    "from collections import Counter  # for counting list\n",
    "import time\n",
    "import plotly\n",
    "from datetime import datetime\n",
    "import pandas as pd # for dataframes used for plotly\n",
    "from random import randint # for random numbers for testing\n",
    "plotly.tools.set_credentials_file(username='benisme', api_key='clBZNegtB5pqHJZXRnnP')\n",
    "plotly.__version__"
   ]
  },
  {
   "cell_type": "markdown",
   "metadata": {},
   "source": [
    "### Definitions\n",
    "#### Create the global variables that are used throughout the program\n",
    "It is generally not best practice to do this, but because we are using the timer, it is quite a difficult problem to get around and this is an easy solution\n",
    "\n",
    "#### Other Definitions\n",
    "We use a number of lists to keep track of what's happening with the songs and counts"
   ]
  },
  {
   "cell_type": "code",
   "execution_count": 69,
   "metadata": {
    "collapsed": true
   },
   "outputs": [],
   "source": [
    "# Global variables (Very bad to do this :( but its easy)\n",
    "global CurrentRepeatList\n",
    "global CurrentRepeatListLength\n",
    "CurrentRepeatList = []\n",
    "CurrentRepeatListLength = 0"
   ]
  },
  {
   "cell_type": "markdown",
   "metadata": {},
   "source": [
    "### Here we write the code to strip the data from the absolute radio webpage\n",
    "\n",
    "This is needed at the start of the program so that the starting state of the program is defined.\n",
    "We place this into three arrays, *artists*, *songs* and *times*"
   ]
  },
  {
   "cell_type": "code",
   "execution_count": 70,
   "metadata": {
    "collapsed": true
   },
   "outputs": [],
   "source": [
    "# Get the data from absolute radio\n",
    "\n",
    "page = requests.get('https://absoluteradio.co.uk/absolute-radio/music/')\n",
    "tree = html.fromstring(page.content)\n",
    "\n",
    "# This will create a list of artists\n",
    "artists = tree.xpath('//p[@class=\"song-artist\"]/text()')\n",
    "# This will create a list of songs\n",
    "songs = tree.xpath('//p[@class=\"song-title\"]/a/text()')\n",
    "# This will create a list of the times of the songs\n",
    "times = tree.xpath('//div[@class=\"song-inner\"]/time/text()')"
   ]
  },
  {
   "cell_type": "markdown",
   "metadata": {},
   "source": [
    "We then print these to the console, just so that we know things are working"
   ]
  },
  {
   "cell_type": "code",
   "execution_count": 71,
   "metadata": {},
   "outputs": [
    {
     "name": "stdout",
     "output_type": "stream",
     "text": [
      "['Simon and Garfunkel', 'Michael Kiwanuka', 'James', 'Oasis', 'Foals', 'Blondie', 'Bastille', 'Red Hot Chili Peppers', 'Catatonia', 'U2', 'Kings Of Leon', 'Siouxsie and The Banshees', 'Panic At The Disco', 'Ram Jam']\n",
      "['I Am A Rock', 'Cold Little Heart ', 'Sound', 'The Masterplan', 'Albatross ', 'Heart Of Glass', 'Good Grief ', 'Tell Me Baby', 'Mulder And Scully', 'The Unforgettable Fire', 'Walls ', 'Hong Kong Garden', 'Nine In The Afternoon', 'Black Betty']\n",
      "['9.22pm', '9.09pm', '8.59pm', '8.59pm', '8.53pm', '8.49pm', '8.40pm', '8.38pm', '8.36pm', '8.25pm', '8.21pm', '8.18pm', '8.16pm', '7.48pm']\n"
     ]
    }
   ],
   "source": [
    "print(artists)\n",
    "print(songs)\n",
    "print(times)"
   ]
  },
  {
   "cell_type": "markdown",
   "metadata": {},
   "source": [
    "Here we will change the times in the *ArtistsSongsTimesCount* list to standard format"
   ]
  },
  {
   "cell_type": "code",
   "execution_count": 72,
   "metadata": {},
   "outputs": [
    {
     "name": "stdout",
     "output_type": "stream",
     "text": [
      "['9.22pm', '9.09pm', '8.59pm', '8.59pm', '8.53pm', '8.49pm', '8.40pm', '8.38pm', '8.36pm', '8.25pm', '8.21pm', '8.18pm', '8.16pm', '7.48pm']\n",
      "['2017-05-14 09:22 PM', '2017-05-14 09:09 PM', '2017-05-14 08:59 PM', '2017-05-14 08:59 PM', '2017-05-14 08:53 PM', '2017-05-14 08:49 PM', '2017-05-14 08:40 PM', '2017-05-14 08:38 PM', '2017-05-14 08:36 PM', '2017-05-14 08:25 PM', '2017-05-14 08:21 PM', '2017-05-14 08:18 PM', '2017-05-14 08:16 PM', '2017-05-14 07:48 PM']\n"
     ]
    }
   ],
   "source": [
    " \n",
    "print(times) # Troubleshooting code\n",
    "\n",
    "def timeconversion_and_committ(times_list):\n",
    "    x = 0\n",
    "    for item in times_list:\n",
    "        time_string = item\n",
    "        #plus_string = '2009-11-29'\n",
    "        plus_string = datetime.today().strftime(\"%Y-%m-%d\")\n",
    "        newformat = '%Y-%m-%d %I.%M%p'\n",
    "        format1 = '%Y-%m-%d %I:%M %p'\n",
    "        total_string = plus_string + \" \" + time_string\n",
    "        my_date = datetime.strptime(total_string, newformat)\n",
    "        times_list[x] = my_date.strftime(format1)\n",
    "        x = x+1\n",
    "    \n",
    "    #print(times_list)\n",
    "    return(times_list)\n",
    "\n",
    "times = timeconversion_and_committ(times)\n",
    "print(times)\n"
   ]
  },
  {
   "cell_type": "markdown",
   "metadata": {},
   "source": [
    "And we define two variable lists based on the length of the number of songs that was returned.\n",
    "Note: i'm not sure what emailnotification does any more"
   ]
  },
  {
   "cell_type": "code",
   "execution_count": 73,
   "metadata": {},
   "outputs": [
    {
     "name": "stdout",
     "output_type": "stream",
     "text": [
      "[1, 2, 3, 4, 5, 6, 7, 8, 9, 10, 11, 12, 13, 14]\n"
     ]
    }
   ],
   "source": [
    "# Main list definitions\n",
    "ArtistsSongsTimesCount = [artists, songs, times, [0] * len(artists)]\n",
    "\n",
    "EmailNotification = [0] * len(artists) # note this can be deleted\n",
    "\n",
    "for x in range(0,(len(ArtistsSongsTimesCount[3]))):\n",
    "    ArtistsSongsTimesCount[3][x] = x + 1\n",
    "    \n",
    "print(ArtistsSongsTimesCount[3])"
   ]
  },
  {
   "cell_type": "markdown",
   "metadata": {},
   "source": [
    "Here we write to a file at the start of the program all of the songs which have been played so far. This will become our master file which we will use to generated statistics."
   ]
  },
  {
   "cell_type": "code",
   "execution_count": 74,
   "metadata": {},
   "outputs": [],
   "source": [
    "OutputFinal = []\n",
    "\n",
    "f = open('Today_Songlist', 'w')\n",
    "\n",
    "f.write('Artists;Songs;Times;Genres\\n')\n",
    "\n",
    "for i in range((len(ArtistsSongsTimesCount[0]) - 1),0,-1):\n",
    "    ReadyForOutput = \"\"\n",
    "    for list in ArtistsSongsTimesCount:\n",
    "        ReadyForOutput = ReadyForOutput + str(list[i]) + ';'\n",
    "    ReadyForOutput = ReadyForOutput + '\\n'\n",
    "    OutputFinal.append(ReadyForOutput)\n",
    "\n",
    "for item in OutputFinal:\n",
    "    f.write(item)\n",
    "    \n",
    "f.close()"
   ]
  },
  {
   "cell_type": "markdown",
   "metadata": {},
   "source": [
    "Testing that the file reads"
   ]
  },
  {
   "cell_type": "code",
   "execution_count": 75,
   "metadata": {},
   "outputs": [
    {
     "name": "stdout",
     "output_type": "stream",
     "text": [
      "Artists;Songs;Times;Genres\n",
      "Ram Jam;Black Betty;2017-05-14 07:48 PM;14;\n",
      "Panic At The Disco;Nine In The Afternoon;2017-05-14 08:16 PM;13;\n",
      "Siouxsie and The Banshees;Hong Kong Garden;2017-05-14 08:18 PM;12;\n",
      "Kings Of Leon;Walls ;2017-05-14 08:21 PM;11;\n",
      "U2;The Unforgettable Fire;2017-05-14 08:25 PM;10;\n",
      "Catatonia;Mulder And Scully;2017-05-14 08:36 PM;9;\n",
      "Red Hot Chili Peppers;Tell Me Baby;2017-05-14 08:38 PM;8;\n",
      "Bastille;Good Grief ;2017-05-14 08:40 PM;7;\n",
      "Blondie;Heart Of Glass;2017-05-14 08:49 PM;6;\n",
      "Foals;Albatross ;2017-05-14 08:53 PM;5;\n",
      "Oasis;The Masterplan;2017-05-14 08:59 PM;4;\n",
      "James;Sound;2017-05-14 08:59 PM;3;\n",
      "Michael Kiwanuka;Cold Little Heart ;2017-05-14 09:09 PM;2;\n",
      "\n"
     ]
    }
   ],
   "source": [
    "f = open('Today_Songlist', 'r')\n",
    "hello = f.read()\n",
    "f.close()\n",
    "\n",
    "print(hello)\n"
   ]
  },
  {
   "cell_type": "markdown",
   "metadata": {},
   "source": [
    "And then we print some stuff into the console to check things are working"
   ]
  },
  {
   "cell_type": "code",
   "execution_count": 76,
   "metadata": {
    "scrolled": true
   },
   "outputs": [
    {
     "name": "stdout",
     "output_type": "stream",
     "text": [
      "14\n",
      "[['Simon and Garfunkel', 'Michael Kiwanuka', 'James', 'Oasis', 'Foals', 'Blondie', 'Bastille', 'Red Hot Chili Peppers', 'Catatonia', 'U2', 'Kings Of Leon', 'Siouxsie and The Banshees', 'Panic At The Disco', 'Ram Jam'], ['I Am A Rock', 'Cold Little Heart ', 'Sound', 'The Masterplan', 'Albatross ', 'Heart Of Glass', 'Good Grief ', 'Tell Me Baby', 'Mulder And Scully', 'The Unforgettable Fire', 'Walls ', 'Hong Kong Garden', 'Nine In The Afternoon', 'Black Betty'], ['2017-05-14 09:22 PM', '2017-05-14 09:09 PM', '2017-05-14 08:59 PM', '2017-05-14 08:59 PM', '2017-05-14 08:53 PM', '2017-05-14 08:49 PM', '2017-05-14 08:40 PM', '2017-05-14 08:38 PM', '2017-05-14 08:36 PM', '2017-05-14 08:25 PM', '2017-05-14 08:21 PM', '2017-05-14 08:18 PM', '2017-05-14 08:16 PM', '2017-05-14 07:48 PM'], [1, 2, 3, 4, 5, 6, 7, 8, 9, 10, 11, 12, 13, 14]]\n"
     ]
    }
   ],
   "source": [
    "print(len(artists))\n",
    "print(ArtistsSongsTimesCount)"
   ]
  },
  {
   "cell_type": "markdown",
   "metadata": {},
   "source": [
    "## Plotly\n",
    "Main Dashboard section"
   ]
  },
  {
   "cell_type": "code",
   "execution_count": 77,
   "metadata": {
    "collapsed": true
   },
   "outputs": [],
   "source": [
    "def generate_plotly_dashboard():\n",
    "    import plotly.dashboard_objs as dashboard\n",
    "    import plotly.plotly as py\n",
    "\n",
    "    import IPython.display\n",
    "    from IPython.display import Image\n",
    "\n",
    "    my_dboard = dashboard.Dashboard()\n",
    "    \n",
    "    \n",
    "    box_1 = {\n",
    "    'type': 'box',\n",
    "    'boxType': 'plot',\n",
    "    'fileId': 'benisme:0',\n",
    "    'shareKey': None,\n",
    "    'title': 'Graph test 1'\n",
    "    }\n",
    "    \n",
    "    box_2 =  {\n",
    "    'type': 'box',\n",
    "    'boxType': 'text',\n",
    "    'text': 'Test Text',\n",
    "    'title': 'Title for text'\n",
    "    }\n",
    "    \n",
    "    box_3 =  {\n",
    "    'type': 'box',\n",
    "    'boxType': 'text',\n",
    "    'text': 'Test Text 2',\n",
    "    'title': 'Title for text 2'\n",
    "    }\n",
    "    \n",
    "    my_dboard.insert(box_1)\n",
    "    my_dboard.insert(box_2, 'above', 1)\n",
    "    my_dboard.insert(box_3, 'left', 2)\n",
    "    \n",
    "    py.dashboard_ops.upload(my_dboard, 'My First Dashboard with Python')\n",
    "    "
   ]
  },
  {
   "cell_type": "code",
   "execution_count": 78,
   "metadata": {
    "collapsed": true
   },
   "outputs": [],
   "source": [
    "#my_dboard.get_preview()"
   ]
  },
  {
   "cell_type": "markdown",
   "metadata": {
    "collapsed": true
   },
   "source": [
    "### Plotly graphs no. 1 for dashboard\n",
    "\n",
    "timeline for the dashboard"
   ]
  },
  {
   "cell_type": "code",
   "execution_count": 79,
   "metadata": {},
   "outputs": [],
   "source": [
    "def generate_plotly_graph1():\n",
    "    \n",
    "    import plotly.plotly as py\n",
    "    import plotly.graph_objs as go\n",
    "\n",
    "    import pandas as pd\n",
    "\n",
    "    headers = ['Artists', 'Songs', 'DateTime', 'Genres']\n",
    "    dtypes = {'Artists': 'str', 'Songs': 'str', 'DateTime': 'str', 'Genres': 'str'}\n",
    "    parse_dates = ['DateTime']\n",
    "\n",
    "    df = pd.read_csv('Today_Songlist', sep=';', header=None, names=headers, dtype=dtypes, parse_dates=parse_dates)\n",
    "\n",
    "    #df = pd.read_csv('Today_Songlist', sep=';')\n",
    "    #df = pd.read_csv('Today_Songlist',sep=';', parse_dates=['Times'])\n",
    "\n",
    "\n",
    "    df.drop(df.index[[0]], inplace=True)\n",
    "    print(df)\n",
    "\n",
    "\n",
    "    trace_high = go.Scatter(\n",
    "                    x=df.DateTime,\n",
    "                    y=df['Genres'],\n",
    "                    mode='markers',\n",
    "                    text=df['Songs'],\n",
    "                    name = \"Genres\",\n",
    "                    line = dict(color = '#17BECF'),\n",
    "                    opacity = 0.8)\n",
    "\n",
    "    data = [trace_high]\n",
    "\n",
    "    layout = dict(\n",
    "        title = \"First trial at Plotly\",\n",
    "        xaxis = dict(\n",
    "            range = ['2017-05-12','2017-05-15'])\n",
    "    )\n",
    "\n",
    "    fig = dict(data=data, layout=layout)\n",
    "    py.iplot(fig, filename = \"Manually Set Range\")\n",
    "\n"
   ]
  },
  {
   "cell_type": "markdown",
   "metadata": {},
   "source": [
    "### The master function\n",
    "\n",
    "Here we define the master function which will be called by the timer, this will\n",
    "1. Call the *Retrieve_TimesArtistsSongs()* function \n",
    "2. If the *Retrieve_TimesArtistsSongs()* returns true, indicating a new song has been played, the master function will\n",
    "  * Check whether it is a repeat: It does this by running *UpdateCount()*\n",
    "  * *Update Count* Returns the current list of repeated songs, and the number of songs played\n",
    "  * If the length of the current list of repeated songs has changed from the last loop, then actions are generated\n",
    "  \n",
    "3. Return values back to the timer"
   ]
  },
  {
   "cell_type": "code",
   "execution_count": 80,
   "metadata": {
    "collapsed": true
   },
   "outputs": [],
   "source": [
    "# start of master function definition\n",
    "def update_song_list_count_and_email():\n",
    "    global CurrentRepeatList\n",
    "    global CurrentRepeatListLength\n",
    "\n",
    "    NewSongBoolean = False\n",
    "    RepeatBoolean = False\n",
    "    TotalSongs = 0\n",
    "\n",
    "    NewSongBoolean = Retrieve_TimesArtistsSongs()\n",
    "    print(\"\")\n",
    "    print(\"NewSongBoolean = \", NewSongBoolean)\n",
    "    # change this to a case statement later on\n",
    "    if NewSongBoolean == True:\n",
    "        print(\"Updating List\")\n",
    "        update_songs_file()\n",
    "        generate_plotly_graph1()\n",
    "        \n",
    "\n",
    "    else:\n",
    "        print(\"Not updating this time around\")\n",
    "\n",
    "    print(\"CurrentRepeatList = \", CurrentRepeatList)\n",
    "    print(\"len(CurrentRepeatList) = \", len(CurrentRepeatList))\n",
    "\n",
    "    CurrentRepeatListLength = len(CurrentRepeatList)\n",
    "\n",
    "    # If the update count returns a bigger value then do something\n",
    "\n",
    "    print(\"\")\n",
    "    print(\"ArtistsSongsTimesCount = \", ArtistsSongsTimesCount)\n",
    "    print(\"\")\n",
    "   \n",
    "    # Function check to see if count is > EmailNotificaiton list\n",
    "\n",
    "    return CurrentRepeatListLength, TotalSongs"
   ]
  },
  {
   "cell_type": "markdown",
   "metadata": {},
   "source": [
    "## The *Retrieve_TimesArtistsSongs* function\n",
    "\n",
    "What this function is doing is:\n",
    "1. Getting the current list of Artists, songs, times from the absolute radio website\n",
    "2. Comparing the songs list to the existing songs list, and if there is a difference\n",
    "  1. It inserts the new song into the existing array\n",
    "  2. It returns the value 'true'"
   ]
  },
  {
   "cell_type": "code",
   "execution_count": 81,
   "metadata": {},
   "outputs": [],
   "source": [
    "def Retrieve_TimesArtistsSongs():\n",
    "    page = requests.get('https://absoluteradio.co.uk/absolute-radio/music/')\n",
    "    tree = html.fromstring(page.content)\n",
    "    # This will create a list of artists\n",
    "    artists_B = tree.xpath('//p[@class=\"song-artist\"]/text()')\n",
    "    # This will create a list of songs\n",
    "    songs_B = tree.xpath('//p[@class=\"song-title\"]/a/text()')\n",
    "    # This will create a list of the times of the songs\n",
    "    times_B = tree.xpath('//div[@class=\"song-inner\"]/time/text()')\n",
    "\n",
    "    if songs_B[0] != ArtistsSongsTimesCount[1][0]: # i.e. compare the newly created songs array to the existing songs array\n",
    "        ArtistsSongsTimesCount[0].insert(0, artists_B[0])\n",
    "        ArtistsSongsTimesCount[1].insert(0, songs_B[0])\n",
    "        ArtistsSongsTimesCount[2].insert(0, times_B[0])\n",
    "        ArtistsSongsTimesCount[3].insert(0, randint(0,9))\n",
    "        return True\n",
    "\n",
    "    else:\n",
    "        return False"
   ]
  },
  {
   "cell_type": "markdown",
   "metadata": {},
   "source": [
    "### The update the songs record file on addition of new song function\n",
    "    "
   ]
  },
  {
   "cell_type": "code",
   "execution_count": 82,
   "metadata": {},
   "outputs": [],
   "source": [
    "def update_songs_file():\n",
    "    OutputFinal = []\n",
    "    ReadyForOutput = \"\"\n",
    "    \n",
    "    f = open('Today_Songlist', 'a')\n",
    "\n",
    "    for list in ArtistsSongsTimesCount:\n",
    "        ReadyForOutput = ReadyForOutput + str(list[0]) + ';'\n",
    "    ReadyForOutput = ReadyForOutput + '\\n'\n",
    "    OutputFinal.append(ReadyForOutput)\n",
    "\n",
    "    for item in OutputFinal:\n",
    "        f.write(item)\n",
    "\n",
    "    f.close()"
   ]
  },
  {
   "cell_type": "markdown",
   "metadata": {},
   "source": [
    "## Start of main program"
   ]
  },
  {
   "cell_type": "code",
   "execution_count": null,
   "metadata": {},
   "outputs": [
    {
     "name": "stdout",
     "output_type": "stream",
     "text": [
      "                      Artists                   Songs             DateTime  \\\n",
      "1                     Ram Jam             Black Betty  2017-05-14 07:48 PM   \n",
      "2          Panic At The Disco   Nine In The Afternoon  2017-05-14 08:16 PM   \n",
      "3   Siouxsie and The Banshees        Hong Kong Garden  2017-05-14 08:18 PM   \n",
      "4               Kings Of Leon                  Walls   2017-05-14 08:21 PM   \n",
      "5                          U2  The Unforgettable Fire  2017-05-14 08:25 PM   \n",
      "6                   Catatonia       Mulder And Scully  2017-05-14 08:36 PM   \n",
      "7       Red Hot Chili Peppers            Tell Me Baby  2017-05-14 08:38 PM   \n",
      "8                    Bastille             Good Grief   2017-05-14 08:40 PM   \n",
      "9                     Blondie          Heart Of Glass  2017-05-14 08:49 PM   \n",
      "10                      Foals              Albatross   2017-05-14 08:53 PM   \n",
      "11                      Oasis          The Masterplan  2017-05-14 08:59 PM   \n",
      "12                      James                   Sound  2017-05-14 08:59 PM   \n",
      "13           Michael Kiwanuka      Cold Little Heart   2017-05-14 09:09 PM   \n",
      "\n",
      "   Genres  \n",
      "1      14  \n",
      "2      13  \n",
      "3      12  \n",
      "4      11  \n",
      "5      10  \n",
      "6       9  \n",
      "7       8  \n",
      "8       7  \n",
      "9       6  \n",
      "10      5  \n",
      "11      4  \n",
      "12      3  \n",
      "13      2  \n",
      "High five! You successfuly sent some data to your account on plotly. View your plot in your browser at https://plot.ly/~benisme/0 or inside your plot.ly account where it is named 'Manually Set Range'\n"
     ]
    }
   ],
   "source": [
    "generate_plotly_graph1()\n",
    "generate_plotly_dashboard()"
   ]
  },
  {
   "cell_type": "markdown",
   "metadata": {},
   "source": [
    "## Timer Function"
   ]
  },
  {
   "cell_type": "code",
   "execution_count": null,
   "metadata": {},
   "outputs": [
    {
     "name": "stdout",
     "output_type": "stream",
     "text": [
      "\n",
      "NewSongBoolean =  False\n",
      "Not updating this time around\n",
      "CurrentRepeatList =  []\n",
      "len(CurrentRepeatList) =  0\n",
      "\n",
      "ArtistsSongsTimesCount =  [['Simon and Garfunkel', 'Michael Kiwanuka', 'James', 'Oasis', 'Foals', 'Blondie', 'Bastille', 'Red Hot Chili Peppers', 'Catatonia', 'U2', 'Kings Of Leon', 'Siouxsie and The Banshees', 'Panic At The Disco', 'Ram Jam'], ['I Am A Rock', 'Cold Little Heart ', 'Sound', 'The Masterplan', 'Albatross ', 'Heart Of Glass', 'Good Grief ', 'Tell Me Baby', 'Mulder And Scully', 'The Unforgettable Fire', 'Walls ', 'Hong Kong Garden', 'Nine In The Afternoon', 'Black Betty'], ['2017-05-14 09:22 PM', '2017-05-14 09:09 PM', '2017-05-14 08:59 PM', '2017-05-14 08:59 PM', '2017-05-14 08:53 PM', '2017-05-14 08:49 PM', '2017-05-14 08:40 PM', '2017-05-14 08:38 PM', '2017-05-14 08:36 PM', '2017-05-14 08:25 PM', '2017-05-14 08:21 PM', '2017-05-14 08:18 PM', '2017-05-14 08:16 PM', '2017-05-14 07:48 PM'], [1, 2, 3, 4, 5, 6, 7, 8, 9, 10, 11, 12, 13, 14]]\n",
      "\n",
      "\n",
      "NewSongBoolean =  False\n",
      "Not updating this time around\n",
      "CurrentRepeatList =  []\n",
      "len(CurrentRepeatList) =  0\n",
      "\n",
      "ArtistsSongsTimesCount =  [['Simon and Garfunkel', 'Michael Kiwanuka', 'James', 'Oasis', 'Foals', 'Blondie', 'Bastille', 'Red Hot Chili Peppers', 'Catatonia', 'U2', 'Kings Of Leon', 'Siouxsie and The Banshees', 'Panic At The Disco', 'Ram Jam'], ['I Am A Rock', 'Cold Little Heart ', 'Sound', 'The Masterplan', 'Albatross ', 'Heart Of Glass', 'Good Grief ', 'Tell Me Baby', 'Mulder And Scully', 'The Unforgettable Fire', 'Walls ', 'Hong Kong Garden', 'Nine In The Afternoon', 'Black Betty'], ['2017-05-14 09:22 PM', '2017-05-14 09:09 PM', '2017-05-14 08:59 PM', '2017-05-14 08:59 PM', '2017-05-14 08:53 PM', '2017-05-14 08:49 PM', '2017-05-14 08:40 PM', '2017-05-14 08:38 PM', '2017-05-14 08:36 PM', '2017-05-14 08:25 PM', '2017-05-14 08:21 PM', '2017-05-14 08:18 PM', '2017-05-14 08:16 PM', '2017-05-14 07:48 PM'], [1, 2, 3, 4, 5, 6, 7, 8, 9, 10, 11, 12, 13, 14]]\n",
      "\n",
      "\n",
      "NewSongBoolean =  False\n",
      "Not updating this time around\n",
      "CurrentRepeatList =  []\n",
      "len(CurrentRepeatList) =  0\n",
      "\n",
      "ArtistsSongsTimesCount =  [['Simon and Garfunkel', 'Michael Kiwanuka', 'James', 'Oasis', 'Foals', 'Blondie', 'Bastille', 'Red Hot Chili Peppers', 'Catatonia', 'U2', 'Kings Of Leon', 'Siouxsie and The Banshees', 'Panic At The Disco', 'Ram Jam'], ['I Am A Rock', 'Cold Little Heart ', 'Sound', 'The Masterplan', 'Albatross ', 'Heart Of Glass', 'Good Grief ', 'Tell Me Baby', 'Mulder And Scully', 'The Unforgettable Fire', 'Walls ', 'Hong Kong Garden', 'Nine In The Afternoon', 'Black Betty'], ['2017-05-14 09:22 PM', '2017-05-14 09:09 PM', '2017-05-14 08:59 PM', '2017-05-14 08:59 PM', '2017-05-14 08:53 PM', '2017-05-14 08:49 PM', '2017-05-14 08:40 PM', '2017-05-14 08:38 PM', '2017-05-14 08:36 PM', '2017-05-14 08:25 PM', '2017-05-14 08:21 PM', '2017-05-14 08:18 PM', '2017-05-14 08:16 PM', '2017-05-14 07:48 PM'], [1, 2, 3, 4, 5, 6, 7, 8, 9, 10, 11, 12, 13, 14]]\n",
      "\n",
      "\n",
      "NewSongBoolean =  False\n",
      "Not updating this time around\n",
      "CurrentRepeatList =  []\n",
      "len(CurrentRepeatList) =  0\n",
      "\n",
      "ArtistsSongsTimesCount =  [['Simon and Garfunkel', 'Michael Kiwanuka', 'James', 'Oasis', 'Foals', 'Blondie', 'Bastille', 'Red Hot Chili Peppers', 'Catatonia', 'U2', 'Kings Of Leon', 'Siouxsie and The Banshees', 'Panic At The Disco', 'Ram Jam'], ['I Am A Rock', 'Cold Little Heart ', 'Sound', 'The Masterplan', 'Albatross ', 'Heart Of Glass', 'Good Grief ', 'Tell Me Baby', 'Mulder And Scully', 'The Unforgettable Fire', 'Walls ', 'Hong Kong Garden', 'Nine In The Afternoon', 'Black Betty'], ['2017-05-14 09:22 PM', '2017-05-14 09:09 PM', '2017-05-14 08:59 PM', '2017-05-14 08:59 PM', '2017-05-14 08:53 PM', '2017-05-14 08:49 PM', '2017-05-14 08:40 PM', '2017-05-14 08:38 PM', '2017-05-14 08:36 PM', '2017-05-14 08:25 PM', '2017-05-14 08:21 PM', '2017-05-14 08:18 PM', '2017-05-14 08:16 PM', '2017-05-14 07:48 PM'], [1, 2, 3, 4, 5, 6, 7, 8, 9, 10, 11, 12, 13, 14]]\n",
      "\n",
      "\n",
      "NewSongBoolean =  False\n",
      "Not updating this time around\n",
      "CurrentRepeatList =  []\n",
      "len(CurrentRepeatList) =  0\n",
      "\n",
      "ArtistsSongsTimesCount =  [['Simon and Garfunkel', 'Michael Kiwanuka', 'James', 'Oasis', 'Foals', 'Blondie', 'Bastille', 'Red Hot Chili Peppers', 'Catatonia', 'U2', 'Kings Of Leon', 'Siouxsie and The Banshees', 'Panic At The Disco', 'Ram Jam'], ['I Am A Rock', 'Cold Little Heart ', 'Sound', 'The Masterplan', 'Albatross ', 'Heart Of Glass', 'Good Grief ', 'Tell Me Baby', 'Mulder And Scully', 'The Unforgettable Fire', 'Walls ', 'Hong Kong Garden', 'Nine In The Afternoon', 'Black Betty'], ['2017-05-14 09:22 PM', '2017-05-14 09:09 PM', '2017-05-14 08:59 PM', '2017-05-14 08:59 PM', '2017-05-14 08:53 PM', '2017-05-14 08:49 PM', '2017-05-14 08:40 PM', '2017-05-14 08:38 PM', '2017-05-14 08:36 PM', '2017-05-14 08:25 PM', '2017-05-14 08:21 PM', '2017-05-14 08:18 PM', '2017-05-14 08:16 PM', '2017-05-14 07:48 PM'], [1, 2, 3, 4, 5, 6, 7, 8, 9, 10, 11, 12, 13, 14]]\n",
      "\n",
      "\n",
      "NewSongBoolean =  False\n",
      "Not updating this time around\n",
      "CurrentRepeatList =  []\n",
      "len(CurrentRepeatList) =  0\n",
      "\n",
      "ArtistsSongsTimesCount =  [['Simon and Garfunkel', 'Michael Kiwanuka', 'James', 'Oasis', 'Foals', 'Blondie', 'Bastille', 'Red Hot Chili Peppers', 'Catatonia', 'U2', 'Kings Of Leon', 'Siouxsie and The Banshees', 'Panic At The Disco', 'Ram Jam'], ['I Am A Rock', 'Cold Little Heart ', 'Sound', 'The Masterplan', 'Albatross ', 'Heart Of Glass', 'Good Grief ', 'Tell Me Baby', 'Mulder And Scully', 'The Unforgettable Fire', 'Walls ', 'Hong Kong Garden', 'Nine In The Afternoon', 'Black Betty'], ['2017-05-14 09:22 PM', '2017-05-14 09:09 PM', '2017-05-14 08:59 PM', '2017-05-14 08:59 PM', '2017-05-14 08:53 PM', '2017-05-14 08:49 PM', '2017-05-14 08:40 PM', '2017-05-14 08:38 PM', '2017-05-14 08:36 PM', '2017-05-14 08:25 PM', '2017-05-14 08:21 PM', '2017-05-14 08:18 PM', '2017-05-14 08:16 PM', '2017-05-14 07:48 PM'], [1, 2, 3, 4, 5, 6, 7, 8, 9, 10, 11, 12, 13, 14]]\n",
      "\n",
      "\n",
      "NewSongBoolean =  False\n",
      "Not updating this time around\n",
      "CurrentRepeatList =  []\n",
      "len(CurrentRepeatList) =  0\n",
      "\n",
      "ArtistsSongsTimesCount =  [['Simon and Garfunkel', 'Michael Kiwanuka', 'James', 'Oasis', 'Foals', 'Blondie', 'Bastille', 'Red Hot Chili Peppers', 'Catatonia', 'U2', 'Kings Of Leon', 'Siouxsie and The Banshees', 'Panic At The Disco', 'Ram Jam'], ['I Am A Rock', 'Cold Little Heart ', 'Sound', 'The Masterplan', 'Albatross ', 'Heart Of Glass', 'Good Grief ', 'Tell Me Baby', 'Mulder And Scully', 'The Unforgettable Fire', 'Walls ', 'Hong Kong Garden', 'Nine In The Afternoon', 'Black Betty'], ['2017-05-14 09:22 PM', '2017-05-14 09:09 PM', '2017-05-14 08:59 PM', '2017-05-14 08:59 PM', '2017-05-14 08:53 PM', '2017-05-14 08:49 PM', '2017-05-14 08:40 PM', '2017-05-14 08:38 PM', '2017-05-14 08:36 PM', '2017-05-14 08:25 PM', '2017-05-14 08:21 PM', '2017-05-14 08:18 PM', '2017-05-14 08:16 PM', '2017-05-14 07:48 PM'], [1, 2, 3, 4, 5, 6, 7, 8, 9, 10, 11, 12, 13, 14]]\n",
      "\n",
      "\n",
      "NewSongBoolean =  False\n",
      "Not updating this time around\n",
      "CurrentRepeatList =  []\n",
      "len(CurrentRepeatList) =  0\n",
      "\n",
      "ArtistsSongsTimesCount =  [['Simon and Garfunkel', 'Michael Kiwanuka', 'James', 'Oasis', 'Foals', 'Blondie', 'Bastille', 'Red Hot Chili Peppers', 'Catatonia', 'U2', 'Kings Of Leon', 'Siouxsie and The Banshees', 'Panic At The Disco', 'Ram Jam'], ['I Am A Rock', 'Cold Little Heart ', 'Sound', 'The Masterplan', 'Albatross ', 'Heart Of Glass', 'Good Grief ', 'Tell Me Baby', 'Mulder And Scully', 'The Unforgettable Fire', 'Walls ', 'Hong Kong Garden', 'Nine In The Afternoon', 'Black Betty'], ['2017-05-14 09:22 PM', '2017-05-14 09:09 PM', '2017-05-14 08:59 PM', '2017-05-14 08:59 PM', '2017-05-14 08:53 PM', '2017-05-14 08:49 PM', '2017-05-14 08:40 PM', '2017-05-14 08:38 PM', '2017-05-14 08:36 PM', '2017-05-14 08:25 PM', '2017-05-14 08:21 PM', '2017-05-14 08:18 PM', '2017-05-14 08:16 PM', '2017-05-14 07:48 PM'], [1, 2, 3, 4, 5, 6, 7, 8, 9, 10, 11, 12, 13, 14]]\n",
      "\n"
     ]
    }
   ],
   "source": [
    "# Creates a timer function running for 30s, and running function get songs\n",
    "\n",
    "starttime = time.time()\n",
    "while True:\n",
    "    CurrentRepeatList2, TotalSongs2 = update_song_list_count_and_email()\n",
    "    # Code needed here to\n",
    "    # pass back whether there has been a repeat and the total number of songs.\n",
    "    # also check if need to re-tweet at someone\n",
    "    time.sleep(30.0 - ((time.time() - starttime) % 30.0))"
   ]
  },
  {
   "cell_type": "markdown",
   "metadata": {},
   "source": [
    "Ideas for next steps"
   ]
  },
  {
   "cell_type": "code",
   "execution_count": null,
   "metadata": {
    "collapsed": true
   },
   "outputs": [],
   "source": [
    "\"\"\"    \n",
    "At end of day (1) tweet about the number of songs and repeats and (2) write day's output to file'\n",
    "\n",
    "I can have 2 seperate functions (1) that tweets to twitter (2) one that checks twitter\n",
    "\n",
    "\n",
    "\n",
    "Settings file: \n",
    "\n",
    "days of the week to run\n",
    "\n",
    "start time\n",
    "\n",
    "stop time\n",
    "\n",
    "\n",
    "Generated file:\n",
    "\n",
    "How many full days monitored\n",
    "\n",
    "How many repeats\n",
    "\"\"\""
   ]
  }
 ],
 "metadata": {
  "kernelspec": {
   "display_name": "Python 3",
   "language": "python",
   "name": "python3"
  },
  "language_info": {
   "codemirror_mode": {
    "name": "ipython",
    "version": 3
   },
   "file_extension": ".py",
   "mimetype": "text/x-python",
   "name": "python",
   "nbconvert_exporter": "python",
   "pygments_lexer": "ipython3",
   "version": "3.6.0"
  }
 },
 "nbformat": 4,
 "nbformat_minor": 2
}
